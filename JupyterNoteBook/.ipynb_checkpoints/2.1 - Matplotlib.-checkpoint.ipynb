{
 "cells": [
  {
   "cell_type": "markdown",
   "id": "a5758597",
   "metadata": {},
   "source": [
    "## Line And Scatter Plot."
   ]
  },
  {
   "cell_type": "code",
   "execution_count": null,
   "id": "bb1546a7",
   "metadata": {},
   "outputs": [],
   "source": [
    "# # Print the last item from year and pop\n",
    "# print(year[-1])\n",
    "# print(pop[-1])\n",
    "\n",
    "\n",
    "# # Import matplotlib.pyplot as plt\n",
    "# import matplotlib.pyplot as plt\n",
    "\n",
    "# # Make a line plot: year on the x-axis, pop on the y-axis\n",
    "# plt.plot(year,pop)\n",
    "\n",
    "# # Display the plot with plt.show()\n",
    "# plt.show()"
   ]
  },
  {
   "cell_type": "code",
   "execution_count": null,
   "id": "680f77fd",
   "metadata": {},
   "outputs": [],
   "source": [
    "# # Print the last item of gdp_cap and life_exp\n",
    "# print(gdp_cap[-1])\n",
    "# print(life_exp[-1])\n",
    "\n",
    "# # Make a line plot, gdp_cap on the x-axis, life_exp on the y-axis\n",
    "# plt.plot(gdp_cap,life_exp)\n",
    "\n",
    "# # Display the plot\n",
    "# plt.show()"
   ]
  },
  {
   "cell_type": "code",
   "execution_count": null,
   "id": "9058b039",
   "metadata": {},
   "outputs": [],
   "source": [
    "# # Change the line plot below to a scatter plot\n",
    "# plt.scatter(gdp_cap, life_exp)\n",
    "\n",
    "# # Put the x-axis on a logarithmic scale\n",
    "# plt.xscale('log')\n",
    "\n",
    "# # Show plot\n",
    "# plt.show()"
   ]
  },
  {
   "cell_type": "markdown",
   "id": "41850371",
   "metadata": {},
   "source": [
    "## Histogram.\n"
   ]
  },
  {
   "cell_type": "code",
   "execution_count": 4,
   "id": "f760b392",
   "metadata": {},
   "outputs": [],
   "source": [
    "import matplotlib.pyplot as plt\n"
   ]
  },
  {
   "cell_type": "code",
   "execution_count": null,
   "id": "60f7e14c",
   "metadata": {},
   "outputs": [],
   "source": [
    "# help(plt.hist)"
   ]
  },
  {
   "cell_type": "code",
   "execution_count": null,
   "id": "947aa6fe",
   "metadata": {},
   "outputs": [],
   "source": [
    "# # Create histogram of life_exp data\n",
    "# plt.hist(life_exp)\n",
    "\n",
    "# # Display histogram\n",
    "# plt.show()"
   ]
  },
  {
   "cell_type": "code",
   "execution_count": null,
   "id": "58103e16",
   "metadata": {},
   "outputs": [],
   "source": [
    "# # Build histogram with 5 bins\n",
    "# plt.hist(life_exp, bins = 5)\n",
    "\n",
    "# # Show and clean up plot\n",
    "# plt.show()\n",
    "# plt.clf()\n",
    "\n",
    "# # Build histogram with 20 bins\n",
    "# plt.hist(life_exp, bins = 20)\n",
    "\n",
    "# # Show and clean up again\n",
    "# plt.show()\n",
    "# plt.clf()"
   ]
  },
  {
   "cell_type": "code",
   "execution_count": null,
   "id": "69bbb518",
   "metadata": {},
   "outputs": [],
   "source": [
    "# # Histogram of life_exp, 15 bins\n",
    "# plt.hist(life_exp, bins=15)\n",
    "\n",
    "# # Show and clear plot\n",
    "# plt.show()\n",
    "# plt.clf()\n",
    "\n",
    "# # Histogram of life_exp1950, 15 bins\n",
    "\n",
    "\n",
    "# # Show and clear plot again\n",
    "# plt.show()\n",
    "# plt.clf()"
   ]
  },
  {
   "cell_type": "markdown",
   "id": "1cd7f584",
   "metadata": {},
   "source": [
    "## Customization Plots. "
   ]
  },
  {
   "cell_type": "code",
   "execution_count": null,
   "id": "7b59373a",
   "metadata": {},
   "outputs": [],
   "source": [
    "# # Basic scatter plot, log scale\n",
    "# plt.scatter(gdp_cap, life_exp)\n",
    "# plt.xscale('log') \n",
    "\n",
    "# # Strings\n",
    "# xlab = 'GDP per Capita [in USD]'\n",
    "# ylab = 'Life Expectancy [in years]'\n",
    "# title = 'World Development in 2007'\n",
    "\n",
    "# # Add axis labels\n",
    "# plt.xlabel(xlab)\n",
    "# plt.ylabel(ylab)\n",
    "\n",
    "# # Add title\n",
    "# plt.title(\"World Development in 2007\")\n",
    "\n",
    "# # After customizing, display the plot\n",
    "# plt.show()"
   ]
  },
  {
   "cell_type": "code",
   "execution_count": null,
   "id": "beeca0b2",
   "metadata": {},
   "outputs": [],
   "source": [
    "# # Scatter plot\n",
    "# plt.scatter(gdp_cap, life_exp)\n",
    "\n",
    "# # Previous customizations\n",
    "# plt.xscale('log') \n",
    "# plt.xlabel('GDP per Capita [in USD]')\n",
    "# plt.ylabel('Life Expectancy [in years]')\n",
    "# plt.title('World Development in 2007')\n",
    "\n",
    "# # Definition of tick_val and tick_lab\n",
    "# tick_val = [1000, 10000, 100000]\n",
    "# tick_lab = ['1k', '10k', '100k']\n",
    "\n",
    "# # Adapt the ticks on the x-axis\n",
    "# plt.xticks([1000, 10000, 100000],['1k', '10k', '100k']\n",
    "# )\n",
    "\n",
    "# # After customizing, display the plot\n",
    "# plt.show()"
   ]
  },
  {
   "cell_type": "code",
   "execution_count": null,
   "id": "e9b928e0",
   "metadata": {},
   "outputs": [],
   "source": [
    "# # Import numpy as np\n",
    "# import numpy as np\n",
    "\n",
    "# # Store pop as a numpy array: np_pop\n",
    "\n",
    "\n",
    "# # Double np_pop\n",
    "\n",
    "\n",
    "# # Update: set s argument to np_pop\n",
    "# plt.scatter(gdp_cap, life_exp, s = pop)\n",
    "\n",
    "# # Previous customizations\n",
    "# plt.xscale('log') \n",
    "# plt.xlabel('GDP per Capita [in USD]')\n",
    "# plt.ylabel('Life Expectancy [in years]')\n",
    "# plt.title('World Development in 2007')\n",
    "# plt.xticks([1000, 10000, 100000],['1k', '10k', '100k'])\n",
    "\n",
    "# # Display the plot\n",
    "# plt.show()"
   ]
  },
  {
   "cell_type": "code",
   "execution_count": null,
   "id": "544eb875",
   "metadata": {},
   "outputs": [],
   "source": [
    "# # Specify c and alpha inside plt.scatter()\n",
    "# plt.scatter(x = gdp_cap, y = life_exp, s = np.array(pop) * 2, c = col, alpha = 0.8)\n",
    "\n",
    "# # Previous customizations\n",
    "# plt.xscale('log') \n",
    "# plt.xlabel('GDP per Capita [in USD]')\n",
    "# plt.ylabel('Life Expectancy [in years]')\n",
    "# plt.title('World Development in 2007')\n",
    "# plt.xticks([1000,10000,100000], ['1k','10k','100k'])\n",
    "\n",
    "# # Show the plot\n",
    "# plt.show()"
   ]
  },
  {
   "cell_type": "code",
   "execution_count": null,
   "id": "76e73301",
   "metadata": {},
   "outputs": [],
   "source": [
    "# # Scatter plot\n",
    "# plt.scatter(x = gdp_cap, y = life_exp, s = np.array(pop) * 2, c = col, alpha = 0.8)\n",
    "\n",
    "# # Previous customizations\n",
    "# plt.xscale('log') \n",
    "# plt.xlabel('GDP per Capita [in USD]')\n",
    "# plt.ylabel('Life Expectancy [in years]')\n",
    "# plt.title('World Development in 2007')\n",
    "# plt.xticks([1000,10000,100000], ['1k','10k','100k'])\n",
    "\n",
    "# # Additional customizations\n",
    "# plt.text(1550, 71, 'India')\n",
    "# plt.text(5700, 80, 'China')\n",
    "\n",
    "# # Add grid() call\n",
    "# plt.grid(True)\n",
    "\n",
    "# # Show the plot\n",
    "# plt.show()"
   ]
  },
  {
   "cell_type": "code",
   "execution_count": null,
   "id": "04abf1f8",
   "metadata": {},
   "outputs": [],
   "source": []
  },
  {
   "cell_type": "code",
   "execution_count": null,
   "id": "5a5c8508",
   "metadata": {},
   "outputs": [],
   "source": []
  },
  {
   "cell_type": "code",
   "execution_count": null,
   "id": "f15e0fc0",
   "metadata": {},
   "outputs": [],
   "source": []
  },
  {
   "cell_type": "code",
   "execution_count": null,
   "id": "f5335ffb",
   "metadata": {},
   "outputs": [],
   "source": []
  },
  {
   "cell_type": "code",
   "execution_count": null,
   "id": "6d64e552",
   "metadata": {},
   "outputs": [],
   "source": []
  }
 ],
 "metadata": {
  "kernelspec": {
   "display_name": "Python 3 (ipykernel)",
   "language": "python",
   "name": "python3"
  },
  "language_info": {
   "codemirror_mode": {
    "name": "ipython",
    "version": 3
   },
   "file_extension": ".py",
   "mimetype": "text/x-python",
   "name": "python",
   "nbconvert_exporter": "python",
   "pygments_lexer": "ipython3",
   "version": "3.9.12"
  }
 },
 "nbformat": 4,
 "nbformat_minor": 5
}
